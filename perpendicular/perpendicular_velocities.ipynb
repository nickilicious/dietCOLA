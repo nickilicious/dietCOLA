{
 "cells": [
  {
   "cell_type": "markdown",
   "id": "c61956ae",
   "metadata": {},
   "source": [
    "# Computing velocities through lines parallel to the cut"
   ]
  },
  {
   "cell_type": "markdown",
   "id": "508ec0f1",
   "metadata": {},
   "source": [
    "## Load data and modules"
   ]
  },
  {
   "cell_type": "code",
   "execution_count": null,
   "id": "64944a30",
   "metadata": {
    "vscode": {
     "languageId": "shellscript"
    }
   },
   "outputs": [],
   "source": [
    "# !{sys.executable} -m pip install import-ipynb"
   ]
  },
  {
   "cell_type": "code",
   "execution_count": 35,
   "id": "5aad6fd4",
   "metadata": {},
   "outputs": [],
   "source": [
    "# Load modules\n",
    "import tqdm\n",
    "import czifile\n",
    "import tifffile\n",
    "import sys\n",
    "import os\n",
    "import io\n",
    "import matplotlib.pyplot as plt\n",
    "import numpy as np\n",
    "import pandas as pd\n",
    "import pathlib\n",
    "\n",
    "from PIL import Image\n",
    "from IPython.display import Image as IPImage, display\n",
    "from matplotlib.animation import FuncAnimation\n",
    "from skimage.io import imread\n",
    "\n",
    "import cv2\n"
   ]
  },
  {
   "cell_type": "code",
   "execution_count": null,
   "id": "b4ec8066",
   "metadata": {},
   "outputs": [],
   "source": [
    "# Local function import\n",
    "sys.path.append(os.path.abspath('../..'))\n",
    "import import_ipynb\n",
    "from piv.data_exploration import visualize_frames_grid\n",
    "from piv.points_df import Points"
   ]
  },
  {
   "cell_type": "code",
   "execution_count": 2,
   "id": "38ce896b",
   "metadata": {},
   "outputs": [
    {
     "name": "stdout",
     "output_type": "stream",
     "text": [
      "Folder ../../data/tiff already has files — skipping conversion.\n"
     ]
    }
   ],
   "source": [
    "# Convert images to tiff\n",
    "src_folder = '../../data/ablation-czi'\n",
    "new_folder = '../../data/tiff'\n",
    "\n",
    "# Create new folder\n",
    "os.makedirs(new_folder, exist_ok=True)\n",
    "\n",
    "# Check if destination folder already has files\n",
    "if len(os.listdir(new_folder)) > 0:\n",
    "    print(f\"Folder {new_folder} already has files — skipping conversion.\")\n",
    "else:\n",
    "    # Convert all .czi files\n",
    "    for file in tqdm.tqdm(os.listdir(src_folder), desc=\"Converting CZI to TIFF\"):\n",
    "        if file.endswith('.czi'):\n",
    "            czi_path = os.path.join(src_folder, file)\n",
    "            out_path = os.path.join(new_folder, file.replace('.czi', '.tiff'))\n",
    "\n",
    "            with czifile.CziFile(czi_path) as czi:\n",
    "                img = czi.asarray()\n",
    "                tifffile.imwrite(out_path, img)\n",
    "\n",
    "    print(\"Conversion complete!\")"
   ]
  },
  {
   "cell_type": "code",
   "execution_count": null,
   "id": "8e8c5246",
   "metadata": {},
   "outputs": [],
   "source": [
    "df = Points.from_csv('out/points.csv')\n",
    "df.head()"
   ]
  },
  {
   "cell_type": "code",
   "execution_count": null,
   "id": "39fbd728",
   "metadata": {},
   "outputs": [],
   "source": [
    "experiment = '220530-E1_Out'"
   ]
  },
  {
   "cell_type": "code",
   "execution_count": null,
   "id": "91c21c49",
   "metadata": {},
   "outputs": [],
   "source": [
    "# Reading in the image from the associated experiment\n",
    "\n",
    "image_dir = '../../data/tiff'\n",
    "image_files = [f for f in os.listdir(image_dir) if experiment in f and f.endswith('.tiff')] # type: ignore\n",
    "if len(image_files) > 1:\n",
    "    raise ValueError(f'Expected only one image for experiment {experiment}, but found {len(image_files)}')\n",
    "\n",
    "image = tifffile.TiffFile(f'{image_dir}/{image_files[0]}')\n",
    "image_data = np.squeeze(image.asarray())"
   ]
  },
  {
   "cell_type": "code",
   "execution_count": null,
   "id": "7a256258",
   "metadata": {},
   "outputs": [],
   "source": [
    "# Preparation for visual plotting\n",
    "channel_red     = image_data[0] # shape -> (115, 512, 512)\n",
    "channel_green   = image_data[1] # shape -> (115, 512, 512)\n",
    "\n",
    "# Normalize for visualization \n",
    "channel_red_norm    = channel_red / channel_red.max()\n",
    "channel_green_norm  = channel_green / channel_green.max()\n",
    "\n",
    "# Create RG(B) stack for each slice\n",
    "rgb_stack = np.zeros((115, 512, 512, 1), dtype=np.float32)\n",
    "rgb_stack[..., 0] = channel_red_norm\n",
    "#rgb_stack[..., 1] = channel_green_norm"
   ]
  },
  {
   "cell_type": "code",
   "execution_count": null,
   "id": "63330b6f",
   "metadata": {},
   "outputs": [],
   "source": []
  },
  {
   "cell_type": "markdown",
   "id": "67cf36b0",
   "metadata": {},
   "source": [
    "## Annotate frame with points"
   ]
  },
  {
   "cell_type": "code",
   "execution_count": 31,
   "id": "4db3f18b",
   "metadata": {},
   "outputs": [
    {
     "data": {
      "text/html": [
       "<div>\n",
       "<style scoped>\n",
       "    .dataframe tbody tr th:only-of-type {\n",
       "        vertical-align: middle;\n",
       "    }\n",
       "\n",
       "    .dataframe tbody tr th {\n",
       "        vertical-align: top;\n",
       "    }\n",
       "\n",
       "    .dataframe thead th {\n",
       "        text-align: right;\n",
       "    }\n",
       "</style>\n",
       "<table border=\"1\" class=\"dataframe\">\n",
       "  <thead>\n",
       "    <tr style=\"text-align: right;\">\n",
       "      <th></th>\n",
       "      <th>cell</th>\n",
       "      <th>time</th>\n",
       "      <th>x</th>\n",
       "      <th>y</th>\n",
       "      <th>z</th>\n",
       "      <th>radius</th>\n",
       "      <th>self</th>\n",
       "      <th>parent</th>\n",
       "      <th>child1</th>\n",
       "      <th>child2</th>\n",
       "    </tr>\n",
       "  </thead>\n",
       "  <tbody>\n",
       "    <tr>\n",
       "      <th>0</th>\n",
       "      <td>New nucleus13</td>\n",
       "      <td>3</td>\n",
       "      <td>316.0</td>\n",
       "      <td>211.0</td>\n",
       "      <td>1.0</td>\n",
       "      <td>6.791667</td>\n",
       "      <td>0</td>\n",
       "      <td>-1</td>\n",
       "      <td>0</td>\n",
       "      <td>-1</td>\n",
       "    </tr>\n",
       "    <tr>\n",
       "      <th>1</th>\n",
       "      <td>New nucleus7</td>\n",
       "      <td>3</td>\n",
       "      <td>317.0</td>\n",
       "      <td>209.0</td>\n",
       "      <td>0.0</td>\n",
       "      <td>6.791667</td>\n",
       "      <td>1</td>\n",
       "      <td>-1</td>\n",
       "      <td>1</td>\n",
       "      <td>-1</td>\n",
       "    </tr>\n",
       "    <tr>\n",
       "      <th>2</th>\n",
       "      <td>New nucleus9</td>\n",
       "      <td>3</td>\n",
       "      <td>225.0</td>\n",
       "      <td>268.0</td>\n",
       "      <td>1.0</td>\n",
       "      <td>6.791667</td>\n",
       "      <td>2</td>\n",
       "      <td>-1</td>\n",
       "      <td>2</td>\n",
       "      <td>-1</td>\n",
       "    </tr>\n",
       "    <tr>\n",
       "      <th>3</th>\n",
       "      <td>New nucleus5</td>\n",
       "      <td>3</td>\n",
       "      <td>274.0</td>\n",
       "      <td>259.0</td>\n",
       "      <td>0.0</td>\n",
       "      <td>7.625000</td>\n",
       "      <td>3</td>\n",
       "      <td>-1</td>\n",
       "      <td>3</td>\n",
       "      <td>-1</td>\n",
       "    </tr>\n",
       "    <tr>\n",
       "      <th>4</th>\n",
       "      <td>New nucleus11</td>\n",
       "      <td>3</td>\n",
       "      <td>272.0</td>\n",
       "      <td>312.0</td>\n",
       "      <td>1.0</td>\n",
       "      <td>6.791667</td>\n",
       "      <td>4</td>\n",
       "      <td>-1</td>\n",
       "      <td>4</td>\n",
       "      <td>-1</td>\n",
       "    </tr>\n",
       "  </tbody>\n",
       "</table>\n",
       "</div>"
      ],
      "text/plain": [
       "            cell  time      x      y    z    radius  self  parent  child1  \\\n",
       "0  New nucleus13     3  316.0  211.0  1.0  6.791667     0      -1       0   \n",
       "1   New nucleus7     3  317.0  209.0  0.0  6.791667     1      -1       1   \n",
       "2   New nucleus9     3  225.0  268.0  1.0  6.791667     2      -1       2   \n",
       "3   New nucleus5     3  274.0  259.0  0.0  7.625000     3      -1       3   \n",
       "4  New nucleus11     3  272.0  312.0  1.0  6.791667     4      -1       4   \n",
       "\n",
       "   child2  \n",
       "0      -1  \n",
       "1      -1  \n",
       "2      -1  \n",
       "3      -1  \n",
       "4      -1  "
      ]
     },
     "execution_count": 31,
     "metadata": {},
     "output_type": "execute_result"
    }
   ],
   "source": [
    "# Points csv\n",
    "cell_id_to_keep = \"220914-E4_Out\"\n",
    "\n",
    "# Load the data\n",
    "points_file_loc = f\"../../data/ablation-lineage/{cell_id_to_keep}.lineage\"\n",
    "df = pd.read_csv(points_file_loc, sep='\\t')\n",
    "\n",
    "df.head()\n"
   ]
  },
  {
   "cell_type": "code",
   "execution_count": null,
   "id": "907b5b23",
   "metadata": {},
   "outputs": [],
   "source": []
  },
  {
   "cell_type": "code",
   "execution_count": null,
   "id": "9a573c21",
   "metadata": {},
   "outputs": [],
   "source": []
  }
 ],
 "metadata": {
  "kernelspec": {
   "display_name": "Python 3",
   "language": "python",
   "name": "python3"
  },
  "language_info": {
   "codemirror_mode": {
    "name": "ipython",
    "version": 3
   },
   "file_extension": ".py",
   "mimetype": "text/x-python",
   "name": "python",
   "nbconvert_exporter": "python",
   "pygments_lexer": "ipython3",
   "version": "3.12.0"
  }
 },
 "nbformat": 4,
 "nbformat_minor": 5
}
