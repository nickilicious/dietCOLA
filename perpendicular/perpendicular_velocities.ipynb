{
 "cells": [
  {
   "cell_type": "markdown",
   "id": "c61956ae",
   "metadata": {},
   "source": [
    "# Computing velocities through lines parallel to the cut"
   ]
  },
  {
   "cell_type": "markdown",
   "id": "508ec0f1",
   "metadata": {},
   "source": [
    "## Load data and modules"
   ]
  },
  {
   "cell_type": "code",
   "execution_count": 1,
   "id": "5aad6fd4",
   "metadata": {},
   "outputs": [],
   "source": [
    "# Load modules\n",
    "import tqdm\n",
    "import czifile\n",
    "import tifffile\n",
    "import os\n",
    "import io\n",
    "import matplotlib.pyplot as plt\n",
    "import numpy as np\n",
    "import pandas as pd\n",
    "import pathlib\n",
    "\n",
    "from PIL import Image\n",
    "from IPython.display import Image as IPImage, display\n",
    "from matplotlib.animation import FuncAnimation\n",
    "from skimage.io import imread\n",
    "\n",
    "import cv2"
   ]
  },
  {
   "cell_type": "code",
   "execution_count": 2,
   "id": "38ce896b",
   "metadata": {},
   "outputs": [
    {
     "name": "stdout",
     "output_type": "stream",
     "text": [
      "Folder ../../data/tiff already has files — skipping conversion.\n"
     ]
    }
   ],
   "source": [
    "# Convert images to tiff\n",
    "src_folder = '../../data/ablation-czi'\n",
    "new_folder = '../../data/tiff'\n",
    "\n",
    "# Create new folder\n",
    "os.makedirs(new_folder, exist_ok=True)\n",
    "\n",
    "# Check if destination folder already has files\n",
    "if len(os.listdir(new_folder)) > 0:\n",
    "    print(f\"Folder {new_folder} already has files — skipping conversion.\")\n",
    "else:\n",
    "    # Convert all .czi files\n",
    "    for file in tqdm.tqdm(os.listdir(src_folder), desc=\"Converting CZI to TIFF\"):\n",
    "        if file.endswith('.czi'):\n",
    "            czi_path = os.path.join(src_folder, file)\n",
    "            out_path = os.path.join(new_folder, file.replace('.czi', '.tiff'))\n",
    "\n",
    "            with czifile.CziFile(czi_path) as czi:\n",
    "                img = czi.asarray()\n",
    "                tifffile.imwrite(out_path, img)\n",
    "\n",
    "    print(\"Conversion complete!\")"
   ]
  },
  {
   "cell_type": "code",
   "execution_count": null,
   "id": "c7883fca",
   "metadata": {},
   "outputs": [],
   "source": [
    "# Example experiment\n",
    "experiment = '220530-E1_Out.tiff'"
   ]
  },
  {
   "cell_type": "code",
   "execution_count": null,
   "id": "4db3f18b",
   "metadata": {},
   "outputs": [
    {
     "name": "stdout",
     "output_type": "stream",
     "text": [
      "Saved 56 rows to 220530-E1_Out.csv\n",
      "File 'points_220530-E1_Out.csv' already exists — skipping.\n"
     ]
    }
   ],
   "source": [
    "# Points csv\n",
    "\n",
    "# Load the data\n",
    "points_file_loc = \"../out/points_E1__test.csv\"\n",
    "df = pd.read_csv(points_file_loc)\n",
    "\n",
    "# Filter by cell_id\n",
    "cell_id_to_keep = \"220530-E1_Out\"\n",
    "filtered_df = df[df[\"cell_id\"] == cell_id_to_keep]\n",
    "\n",
    "# Define output file name\n",
    "out_file = f\"points_{cell_id_to_keep}.csv\"\n",
    "\n",
    "# Check if the file already exists\n",
    "if os.path.exists(out_file):\n",
    "    print(f\"File '{out_file}' already exists — skipping.\")\n",
    "else:\n",
    "    filtered_df.to_csv(out_file, index=False)\n",
    "    print(f\"Saved {len(filtered_df)} rows to '{out_file}'.\")\n"
   ]
  },
  {
   "cell_type": "code",
   "execution_count": null,
   "id": "907b5b23",
   "metadata": {},
   "outputs": [
    {
     "name": "stderr",
     "output_type": "stream",
     "text": [
      "[ WARN:0@534.011] global loadsave.cpp:275 findDecoder imread_('220530-E1_Out'): can't open/read file: check file path/integrity\n"
     ]
    },
    {
     "ename": "AttributeError",
     "evalue": "'str' object has no attribute 'iterrows'",
     "output_type": "error",
     "traceback": [
      "\u001b[31m---------------------------------------------------------------------------\u001b[39m",
      "\u001b[31mAttributeError\u001b[39m                            Traceback (most recent call last)",
      "\u001b[36mCell\u001b[39m\u001b[36m \u001b[39m\u001b[32mIn[6]\u001b[39m\u001b[32m, line 6\u001b[39m\n\u001b[32m      3\u001b[39m points = out_file\n\u001b[32m      5\u001b[39m \u001b[38;5;66;03m# Draw points\u001b[39;00m\n\u001b[32m----> \u001b[39m\u001b[32m6\u001b[39m \u001b[38;5;28;01mfor\u001b[39;00m _, row \u001b[38;5;129;01min\u001b[39;00m \u001b[43mpoints\u001b[49m\u001b[43m.\u001b[49m\u001b[43miterrows\u001b[49m():\n\u001b[32m      7\u001b[39m     x, y = \u001b[38;5;28mint\u001b[39m(row[\u001b[33m\"\u001b[39m\u001b[33mx\u001b[39m\u001b[33m\"\u001b[39m]), \u001b[38;5;28mint\u001b[39m(row[\u001b[33m\"\u001b[39m\u001b[33my\u001b[39m\u001b[33m\"\u001b[39m])\n\u001b[32m      8\u001b[39m     cv2.circle(img, (x, y), radius=\u001b[32m5\u001b[39m, color=(\u001b[32m0\u001b[39m, \u001b[32m0\u001b[39m, \u001b[32m255\u001b[39m), thickness=-\u001b[32m1\u001b[39m)  \u001b[38;5;66;03m# red dot\u001b[39;00m\n",
      "\u001b[31mAttributeError\u001b[39m: 'str' object has no attribute 'iterrows'"
     ]
    }
   ],
   "source": [
    "# Load image and points metadata\n",
    "img = cv2.imread(experiment)\n",
    "df = pd.read_csv(out_file)\n",
    "\n",
    "# Draw points\n",
    "for _, row in df.iterrows():\n",
    "    x, y = int(row[\"x\"]), int(row[\"y\"])\n",
    "    cv2.circle(img, (x, y), radius=5, color=(0, 0, 255), thickness=-1)  # red dot\n",
    "\n",
    "# Save or display\n",
    "cv2.imwrite(\"image_with_points.tiff\", img)\n",
    "\n",
    "# Read image (OpenCV reads as BGR)\n",
    "img = cv2.imread(\"image_with_points.tiff\")\n",
    "\n",
    "# Convert to RGB for matplotlib\n",
    "img_rgb = cv2.cvtColor(img, cv2.COLOR_BGR2RGB)\n",
    "\n",
    "plt.figure(figsize=(8, 8))\n",
    "plt.imshow(img_rgb)\n",
    "plt.title(\"Overlayed points\")\n",
    "plt.axis('off')\n",
    "plt.show()"
   ]
  }
 ],
 "metadata": {
  "kernelspec": {
   "display_name": "Python 3",
   "language": "python",
   "name": "python3"
  },
  "language_info": {
   "codemirror_mode": {
    "name": "ipython",
    "version": 3
   },
   "file_extension": ".py",
   "mimetype": "text/x-python",
   "name": "python",
   "nbconvert_exporter": "python",
   "pygments_lexer": "ipython3",
   "version": "3.12.0"
  }
 },
 "nbformat": 4,
 "nbformat_minor": 5
}
